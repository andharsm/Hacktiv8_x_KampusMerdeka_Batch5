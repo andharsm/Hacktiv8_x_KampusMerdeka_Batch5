{
 "cells": [
  {
   "cell_type": "markdown",
   "id": "5a42de67",
   "metadata": {},
   "source": [
    "# Integer"
   ]
  },
  {
   "cell_type": "code",
   "execution_count": 1,
   "id": "9ecc4ffb",
   "metadata": {},
   "outputs": [
    {
     "name": "stdout",
     "output_type": "stream",
     "text": [
      "123\n"
     ]
    }
   ],
   "source": [
    "print(123)"
   ]
  },
  {
   "cell_type": "code",
   "execution_count": 3,
   "id": "b0422d37",
   "metadata": {},
   "outputs": [
    {
     "name": "stdout",
     "output_type": "stream",
     "text": [
      "10\n",
      "<class 'int'>\n"
     ]
    }
   ],
   "source": [
    "print(10)\n",
    "print(type(10))"
   ]
  },
  {
   "cell_type": "markdown",
   "id": "cb448b08",
   "metadata": {},
   "source": [
    "# Float"
   ]
  },
  {
   "cell_type": "code",
   "execution_count": 4,
   "id": "c6a0809e",
   "metadata": {},
   "outputs": [
    {
     "name": "stdout",
     "output_type": "stream",
     "text": [
      "4.2\n",
      "<class 'float'>\n",
      "4.0\n",
      "0.2\n",
      "4000000.0\n",
      "0.00042\n"
     ]
    }
   ],
   "source": [
    "print(4.2)\n",
    "print(type(4.2))\n",
    "print(4.)\n",
    "print(.2)\n",
    "print(.4e7)\n",
    "print(4.2e-4)"
   ]
  },
  {
   "cell_type": "markdown",
   "id": "b89362df",
   "metadata": {},
   "source": [
    "# String"
   ]
  },
  {
   "cell_type": "code",
   "execution_count": 6,
   "id": "09aa7769",
   "metadata": {},
   "outputs": [
    {
     "name": "stdout",
     "output_type": "stream",
     "text": [
      "Hacktiv8\n",
      "<class 'str'>\n"
     ]
    }
   ],
   "source": [
    "print(\"Hacktiv8\")\n",
    "print(type(\"Hacktiv8\"))"
   ]
  },
  {
   "cell_type": "code",
   "execution_count": 7,
   "id": "1429f3d8",
   "metadata": {},
   "outputs": [
    {
     "name": "stdout",
     "output_type": "stream",
     "text": [
      "\n"
     ]
    }
   ],
   "source": [
    "print('')"
   ]
  },
  {
   "cell_type": "code",
   "execution_count": 8,
   "id": "41bcc154",
   "metadata": {},
   "outputs": [
    {
     "name": "stdout",
     "output_type": "stream",
     "text": [
      "ini petik satu (')\n",
      "ini petik dua (')\n"
     ]
    }
   ],
   "source": [
    "print(\"ini petik satu (')\")\n",
    "print(\"ini petik dua (')\")"
   ]
  },
  {
   "cell_type": "markdown",
   "id": "14537856",
   "metadata": {},
   "source": [
    "# Boolean"
   ]
  },
  {
   "cell_type": "code",
   "execution_count": 9,
   "id": "981ba3af",
   "metadata": {},
   "outputs": [
    {
     "name": "stdout",
     "output_type": "stream",
     "text": [
      "<class 'bool'>\n",
      "<class 'bool'>\n"
     ]
    }
   ],
   "source": [
    "print(type(True))\n",
    "print(type(False))"
   ]
  },
  {
   "cell_type": "markdown",
   "id": "b80ea6e2",
   "metadata": {},
   "source": [
    "# Variable Assignment"
   ]
  },
  {
   "cell_type": "code",
   "execution_count": 10,
   "id": "c41ec1a3",
   "metadata": {},
   "outputs": [],
   "source": [
    "n = 300"
   ]
  },
  {
   "cell_type": "code",
   "execution_count": 11,
   "id": "2f13a089",
   "metadata": {},
   "outputs": [
    {
     "name": "stdout",
     "output_type": "stream",
     "text": [
      "300\n"
     ]
    }
   ],
   "source": [
    "print(n)"
   ]
  },
  {
   "cell_type": "code",
   "execution_count": 12,
   "id": "be847955",
   "metadata": {},
   "outputs": [
    {
     "data": {
      "text/plain": [
       "300"
      ]
     },
     "execution_count": 12,
     "metadata": {},
     "output_type": "execute_result"
    }
   ],
   "source": [
    "n"
   ]
  },
  {
   "cell_type": "code",
   "execution_count": 14,
   "id": "405aeef4",
   "metadata": {},
   "outputs": [
    {
     "name": "stdout",
     "output_type": "stream",
     "text": [
      "1000\n"
     ]
    },
    {
     "data": {
      "text/plain": [
       "1000"
      ]
     },
     "execution_count": 14,
     "metadata": {},
     "output_type": "execute_result"
    }
   ],
   "source": [
    "n = 1000\n",
    "print(n)\n",
    "n"
   ]
  },
  {
   "cell_type": "code",
   "execution_count": 15,
   "id": "402c582f",
   "metadata": {},
   "outputs": [
    {
     "name": "stdout",
     "output_type": "stream",
     "text": [
      "300 300 300\n"
     ]
    }
   ],
   "source": [
    "a = b = c = 300\n",
    "print(a, b, c)"
   ]
  },
  {
   "cell_type": "markdown",
   "id": "58869fb7",
   "metadata": {},
   "source": [
    "# Variable Types"
   ]
  },
  {
   "cell_type": "code",
   "execution_count": 16,
   "id": "4db246a1",
   "metadata": {},
   "outputs": [
    {
     "name": "stdout",
     "output_type": "stream",
     "text": [
      "23.5\n"
     ]
    }
   ],
   "source": [
    "var = 23.5\n",
    "print(var)"
   ]
  },
  {
   "cell_type": "code",
   "execution_count": 17,
   "id": "eea27853",
   "metadata": {},
   "outputs": [
    {
     "name": "stdout",
     "output_type": "stream",
     "text": [
      "Ini adalah string?\n"
     ]
    }
   ],
   "source": [
    "var = \"Ini adalah string?\"\n",
    "print(var)"
   ]
  },
  {
   "cell_type": "markdown",
   "id": "f0cfbab4",
   "metadata": {},
   "source": [
    "# Variable Names"
   ]
  },
  {
   "cell_type": "code",
   "execution_count": 20,
   "id": "0d95fad4",
   "metadata": {},
   "outputs": [
    {
     "name": "stdout",
     "output_type": "stream",
     "text": [
      "Hactiv8 54 True\n"
     ]
    }
   ],
   "source": [
    "name = \"Hactiv8\"\n",
    "age = 54\n",
    "has_laptops = True\n",
    "print(name, age, has_laptops)"
   ]
  },
  {
   "cell_type": "code",
   "execution_count": 21,
   "id": "dff8d524",
   "metadata": {},
   "outputs": [
    {
     "name": "stdout",
     "output_type": "stream",
     "text": [
      "1 2 3 4 5 6 7 8\n"
     ]
    }
   ],
   "source": [
    "age = 1\n",
    "Age = 2\n",
    "aGe = 3\n",
    "agE = 4\n",
    "a_g_e = 5\n",
    "_age = 6\n",
    "age_ = 7\n",
    "_AGE_ = 8\n",
    "\n",
    "print(age, Age, aGe, agE, a_g_e, _age, age_, _AGE_)"
   ]
  },
  {
   "cell_type": "markdown",
   "id": "93ef6109",
   "metadata": {},
   "source": [
    "# Operators and Expressions"
   ]
  },
  {
   "cell_type": "code",
   "execution_count": 22,
   "id": "cfe18a3a",
   "metadata": {},
   "outputs": [
    {
     "data": {
      "text/plain": [
       "30"
      ]
     },
     "execution_count": 22,
     "metadata": {},
     "output_type": "execute_result"
    }
   ],
   "source": [
    "a = 10\n",
    "b = 20\n",
    "a+b"
   ]
  },
  {
   "cell_type": "code",
   "execution_count": 23,
   "id": "65b7c524",
   "metadata": {},
   "outputs": [
    {
     "data": {
      "text/plain": [
       "25"
      ]
     },
     "execution_count": 23,
     "metadata": {},
     "output_type": "execute_result"
    }
   ],
   "source": [
    "a+b-5"
   ]
  },
  {
   "cell_type": "markdown",
   "id": "38499076",
   "metadata": {},
   "source": [
    "# Arithmetic Operators"
   ]
  },
  {
   "cell_type": "code",
   "execution_count": 24,
   "id": "1a6d4ea0",
   "metadata": {},
   "outputs": [
    {
     "name": "stdout",
     "output_type": "stream",
     "text": [
      "7\n",
      "1\n",
      "12\n",
      "1.3333333333333333\n",
      "1\n",
      "64\n"
     ]
    }
   ],
   "source": [
    "a = 4\n",
    "b = 3\n",
    "\n",
    "print(a+b)\n",
    "print(a-b)\n",
    "print(a*b)\n",
    "print(a/b)\n",
    "print(a%b)\n",
    "print(a**b)"
   ]
  },
  {
   "cell_type": "markdown",
   "id": "761bc457",
   "metadata": {},
   "source": [
    "# Comparison Operators"
   ]
  },
  {
   "cell_type": "code",
   "execution_count": 25,
   "id": "1323a105",
   "metadata": {},
   "outputs": [
    {
     "name": "stdout",
     "output_type": "stream",
     "text": [
      "False\n",
      "True\n",
      "True\n",
      "False\n"
     ]
    }
   ],
   "source": [
    "a = 10\n",
    "b = 20\n",
    "\n",
    "print(a==b)\n",
    "print(a!=b)\n",
    "print(a<=b)\n",
    "print(a>=b)"
   ]
  },
  {
   "cell_type": "code",
   "execution_count": 26,
   "id": "3b9dbbb5",
   "metadata": {},
   "outputs": [
    {
     "name": "stdout",
     "output_type": "stream",
     "text": [
      "True\n",
      "False\n",
      "True\n",
      "True\n"
     ]
    }
   ],
   "source": [
    "a = 10\n",
    "b = 10\n",
    "\n",
    "print(a==b)\n",
    "print(a!=b)\n",
    "print(a<=b)\n",
    "print(a>=b)"
   ]
  },
  {
   "cell_type": "markdown",
   "id": "33def2d6",
   "metadata": {},
   "source": [
    "# String Manipulation"
   ]
  },
  {
   "cell_type": "code",
   "execution_count": 28,
   "id": "c473ba1d",
   "metadata": {},
   "outputs": [
    {
     "name": "stdout",
     "output_type": "stream",
     "text": [
      "sayamau\n",
      "sayamautidur\n",
      "saya tidur\n"
     ]
    }
   ],
   "source": [
    "s = 'saya'\n",
    "m = 'mau'\n",
    "t = 'tidur'\n",
    "\n",
    "print(s+m)\n",
    "print(s+m+t)\n",
    "\n",
    "print('saya '+'tidur')"
   ]
  },
  {
   "cell_type": "code",
   "execution_count": 29,
   "id": "cac0122a",
   "metadata": {},
   "outputs": [
    {
     "data": {
      "text/plain": [
       "'hallohallohallohallo'"
      ]
     },
     "execution_count": 29,
     "metadata": {},
     "output_type": "execute_result"
    }
   ],
   "source": [
    "s = 'hallo'\n",
    "s*4"
   ]
  },
  {
   "cell_type": "code",
   "execution_count": 30,
   "id": "24d894b4",
   "metadata": {},
   "outputs": [
    {
     "name": "stdout",
     "output_type": "stream",
     "text": [
      "True\n",
      "False\n"
     ]
    }
   ],
   "source": [
    "s = 'hallo'\n",
    "\n",
    "print(s in 'hallo gaes')\n",
    "print(s in 'gimana gaes')"
   ]
  },
  {
   "cell_type": "code",
   "execution_count": 32,
   "id": "9407468b",
   "metadata": {},
   "outputs": [
    {
     "name": "stdout",
     "output_type": "stream",
     "text": [
      "Hacktiv8\n",
      "hacktiv8\n",
      "hACKTiv8\n",
      "Hacktiv8\n",
      "HACKTIV8\n"
     ]
    }
   ],
   "source": [
    "s = 'HacktIV8'\n",
    "\n",
    "#capital\n",
    "print(s.capitalize())\n",
    "\n",
    "#lowercase\n",
    "print(s.lower())\n",
    "\n",
    "#swapcas\n",
    "print(s.swapcase())\n",
    "\n",
    "#title\n",
    "print(s.title())\n",
    "\n",
    "#uppercase\n",
    "print(s.upper())"
   ]
  },
  {
   "cell_type": "markdown",
   "id": "75d05818",
   "metadata": {},
   "source": [
    "# List"
   ]
  },
  {
   "cell_type": "code",
   "execution_count": 34,
   "id": "1b967436",
   "metadata": {},
   "outputs": [
    {
     "name": "stdout",
     "output_type": "stream",
     "text": [
      "['kucing', 'anjing', 'harimau', 'singa']\n"
     ]
    }
   ],
   "source": [
    "a = ['kucing', 'anjing', 'harimau', 'singa']\n",
    "\n",
    "print(a)"
   ]
  },
  {
   "cell_type": "code",
   "execution_count": 35,
   "id": "caeede0c",
   "metadata": {},
   "outputs": [
    {
     "data": {
      "text/plain": [
       "False"
      ]
     },
     "execution_count": 35,
     "metadata": {},
     "output_type": "execute_result"
    }
   ],
   "source": [
    "a = ['kucing', 'anjing', 'harimau', 'singa']\n",
    "b = ['ikan', 'kambing', 'ayam', 'burung']\n",
    "\n",
    "a == b"
   ]
  },
  {
   "cell_type": "markdown",
   "id": "217bae6e",
   "metadata": {},
   "source": [
    "List dapat berisi bermacam objek"
   ]
  },
  {
   "cell_type": "code",
   "execution_count": 36,
   "id": "8a7788f1",
   "metadata": {},
   "outputs": [
    {
     "name": "stdout",
     "output_type": "stream",
     "text": [
      "[21.23, 'kucing', 5, True, 'kambing', 55.2]\n"
     ]
    }
   ],
   "source": [
    "a = [21.23, 'kucing', 5, True, 'kambing', 55.2]\n",
    "print(a)"
   ]
  },
  {
   "cell_type": "markdown",
   "id": "fabf47d2",
   "metadata": {},
   "source": [
    "List dapat diakses dengan index"
   ]
  },
  {
   "cell_type": "code",
   "execution_count": 37,
   "id": "26f5504d",
   "metadata": {},
   "outputs": [
    {
     "name": "stdout",
     "output_type": "stream",
     "text": [
      "kucing\n",
      "singa\n"
     ]
    }
   ],
   "source": [
    "#index dimulai dari 0\n",
    "a = ['kucing', 'anjing', 'harimau', 'singa']\n",
    "\n",
    "print(a[0])\n",
    "print(a[3])"
   ]
  },
  {
   "cell_type": "markdown",
   "id": "ded06854",
   "metadata": {},
   "source": [
    "Index list negatif"
   ]
  },
  {
   "cell_type": "code",
   "execution_count": 38,
   "id": "d64ccf06",
   "metadata": {},
   "outputs": [
    {
     "name": "stdout",
     "output_type": "stream",
     "text": [
      "singa\n",
      "kucing\n"
     ]
    }
   ],
   "source": [
    "#index negatif dimulai dari -1 dari data paling terakhir (ujung kanan)\n",
    "a = ['kucing', 'anjing', 'harimau', 'singa']\n",
    "\n",
    "print(a[-1])\n",
    "print(a[-4])"
   ]
  },
  {
   "cell_type": "code",
   "execution_count": 40,
   "id": "7230098e",
   "metadata": {},
   "outputs": [
    {
     "name": "stdout",
     "output_type": "stream",
     "text": [
      "['anjing', 'harimau', 'singa']\n",
      "['kucing', 'anjing', 'harimau', 'singa']\n",
      "['harimau', 'singa']\n"
     ]
    }
   ],
   "source": [
    "#slicing\n",
    "a = ['kucing', 'anjing', 'harimau', 'singa']\n",
    "\n",
    "print(a[1:])\n",
    "print(a[:4])\n",
    "print(a[2:4])"
   ]
  },
  {
   "cell_type": "code",
   "execution_count": 41,
   "id": "8687d1bb",
   "metadata": {},
   "outputs": [
    {
     "name": "stdout",
     "output_type": "stream",
     "text": [
      "['kucing', 'anjing', 'harimau', 'singa']\n",
      "['kucing', 'anjing', 'harimau', 'singa', 'kambing', 'sapi']\n",
      "['kucing', 'anjing', 'harimau', 'singa', 'kucing', 'anjing', 'harimau', 'singa']\n"
     ]
    }
   ],
   "source": [
    "#penambahan (+), replika (*)\n",
    "a = ['kucing', 'anjing', 'harimau', 'singa']\n",
    "\n",
    "print(a)\n",
    "print(a+['kambing', 'sapi'])\n",
    "print(a*2)"
   ]
  },
  {
   "cell_type": "code",
   "execution_count": 44,
   "id": "c35613ea",
   "metadata": {},
   "outputs": [
    {
     "name": "stdout",
     "output_type": "stream",
     "text": [
      "6\n",
      "6\n",
      "1\n"
     ]
    }
   ],
   "source": [
    "#detail data\n",
    "a = [1, 2, 3, 4, 5, 6]\n",
    "\n",
    "#panjang data len()\n",
    "print(len(a))\n",
    "\n",
    "#data terbesar max()\n",
    "print(max(a))\n",
    "\n",
    "#data terkecil min()\n",
    "print(min(a))"
   ]
  },
  {
   "cell_type": "code",
   "execution_count": 46,
   "id": "4ccfb571",
   "metadata": {},
   "outputs": [
    {
     "name": "stdout",
     "output_type": "stream",
     "text": [
      "['kucing', 'anjing', 'harimau', 'singa']\n",
      "['kucing', 'anjing', 10, 1]\n"
     ]
    }
   ],
   "source": [
    "#edit satu list value\n",
    "a = ['kucing', 'anjing', 'harimau', 'singa']\n",
    "\n",
    "\n",
    "print(a)\n",
    "\n",
    "a[2] = 10\n",
    "a[-1] = 1\n",
    "\n",
    "print(a)"
   ]
  },
  {
   "cell_type": "code",
   "execution_count": 47,
   "id": "98484d2d",
   "metadata": {},
   "outputs": [
    {
     "name": "stdout",
     "output_type": "stream",
     "text": [
      "['kucing', 'anjing', 'harimau', 'singa']\n",
      "['kucing', 10, 2, 4, 'singa']\n"
     ]
    }
   ],
   "source": [
    "#edit beberapa list value\n",
    "a = ['kucing', 'anjing', 'harimau', 'singa']\n",
    "\n",
    "\n",
    "print(a)\n",
    "\n",
    "a[1:3] = [10, 2, 4]\n",
    "\n",
    "print(a)"
   ]
  },
  {
   "cell_type": "code",
   "execution_count": 48,
   "id": "c7dc0217",
   "metadata": {},
   "outputs": [
    {
     "name": "stdout",
     "output_type": "stream",
     "text": [
      "['kucing', 10, 2, 4, 'singa']\n",
      "['kucing', 10, 4, 'singa']\n"
     ]
    }
   ],
   "source": [
    "#hapus list item\n",
    "print(a)\n",
    "\n",
    "del a[2]\n",
    "print(a)"
   ]
  },
  {
   "cell_type": "markdown",
   "id": "8d3a90b7",
   "metadata": {},
   "source": [
    "# Tuple"
   ]
  },
  {
   "cell_type": "code",
   "execution_count": 51,
   "id": "995e5eca",
   "metadata": {},
   "outputs": [
    {
     "name": "stdout",
     "output_type": "stream",
     "text": [
      "('kucing', 'anjing', 'harimau', 'singa')\n"
     ]
    }
   ],
   "source": [
    "t = ('kucing', 'anjing', 'harimau', 'singa')\n",
    "\n",
    "print(t)"
   ]
  },
  {
   "cell_type": "code",
   "execution_count": 52,
   "id": "6f4d0ceb",
   "metadata": {},
   "outputs": [
    {
     "name": "stdout",
     "output_type": "stream",
     "text": [
      "kucing\n",
      "singa\n"
     ]
    }
   ],
   "source": [
    "print(t[0])\n",
    "print(t[-1])"
   ]
  },
  {
   "cell_type": "code",
   "execution_count": 54,
   "id": "a364dc2c",
   "metadata": {},
   "outputs": [
    {
     "data": {
      "text/plain": [
       "'singa'"
      ]
     },
     "execution_count": 54,
     "metadata": {},
     "output_type": "execute_result"
    }
   ],
   "source": [
    "#packing and unpacking\n",
    "(s1, s2, s3, s4) = ('kucing', 'anjing', 'harimau', 'singa')\n",
    "\n",
    "s4"
   ]
  },
  {
   "cell_type": "markdown",
   "id": "8c8d0851",
   "metadata": {},
   "source": [
    "# Dictionary"
   ]
  },
  {
   "cell_type": "code",
   "execution_count": 56,
   "id": "e9c2569a",
   "metadata": {},
   "outputs": [],
   "source": [
    "hewan = {\n",
    "    'herbivora' : 'kambing',\n",
    "    'karnivora' : 'harimau',\n",
    "    'unggas' : 'ayam'\n",
    "}"
   ]
  },
  {
   "cell_type": "code",
   "execution_count": 57,
   "id": "ec7fb818",
   "metadata": {},
   "outputs": [
    {
     "name": "stdout",
     "output_type": "stream",
     "text": [
      "kambing\n",
      "harimau\n"
     ]
    }
   ],
   "source": [
    "#akses value\n",
    "print(hewan['herbivora'])\n",
    "print(hewan['karnivora'])"
   ]
  },
  {
   "cell_type": "code",
   "execution_count": 58,
   "id": "28ab73e8",
   "metadata": {},
   "outputs": [
    {
     "data": {
      "text/plain": [
       "{'herbivora': 'kambing',\n",
       " 'karnivora': 'harimau',\n",
       " 'unggas': 'ayam',\n",
       " 'mamalia': 'paus'}"
      ]
     },
     "execution_count": 58,
     "metadata": {},
     "output_type": "execute_result"
    }
   ],
   "source": [
    "#menambahkan data baru\n",
    "hewan['mamalia'] = 'paus'\n",
    "hewan"
   ]
  },
  {
   "cell_type": "code",
   "execution_count": 60,
   "id": "98c673da",
   "metadata": {},
   "outputs": [
    {
     "name": "stdout",
     "output_type": "stream",
     "text": [
      "{'herbivora': 'kambing', 'karnivora': 'harimau', 'unggas': 'burung', 'mamalia': 'paus'}\n",
      "===\n",
      "{'herbivora': 'kambing', 'karnivora': 'harimau', 'unggas': 'burung', 'mamalia': 'paus'}\n"
     ]
    }
   ],
   "source": [
    "#update data\n",
    "print(hewan)\n",
    "print('===')\n",
    "\n",
    "hewan['unggas'] = 'burung'\n",
    "print(hewan)"
   ]
  },
  {
   "cell_type": "code",
   "execution_count": 61,
   "id": "8b50e8e6",
   "metadata": {},
   "outputs": [
    {
     "name": "stdout",
     "output_type": "stream",
     "text": [
      "{'herbivora': 'kambing', 'karnivora': 'harimau', 'unggas': 'burung', 'mamalia': 'paus'}\n",
      "===\n",
      "{'herbivora': 'kambing', 'unggas': 'burung', 'mamalia': 'paus'}\n"
     ]
    }
   ],
   "source": [
    "#hapus data\n",
    "print(hewan)\n",
    "print('===')\n",
    "\n",
    "del hewan['karnivora']\n",
    "print(hewan)"
   ]
  },
  {
   "cell_type": "code",
   "execution_count": 62,
   "id": "5d550784",
   "metadata": {},
   "outputs": [
    {
     "name": "stdout",
     "output_type": "stream",
     "text": [
      "<class 'dict'>\n",
      "{'nama': 'Alex', 'usia': 24, 'pendidikan': ['sd', 'smp', 'sma'], 'alamat': {'provinsi': 'jateng', 'kabupaten': 'banyumas'}}\n"
     ]
    }
   ],
   "source": [
    "#membuat dictionary dari awal\n",
    "data = {}\n",
    "print(type(data))\n",
    "\n",
    "data['nama'] = 'Alex'\n",
    "data['usia'] = 24\n",
    "data['pendidikan'] = ['sd', 'smp', 'sma']\n",
    "data['alamat'] = {'provinsi': 'jateng', 'kabupaten': 'banyumas'}\n",
    "print(data)"
   ]
  },
  {
   "cell_type": "code",
   "execution_count": 65,
   "id": "1416a4d0",
   "metadata": {},
   "outputs": [
    {
     "name": "stdout",
     "output_type": "stream",
     "text": [
      "Alex\n",
      "24\n",
      "['sd', 'smp', 'sma']\n",
      "{'provinsi': 'jateng', 'kabupaten': 'banyumas'}\n",
      "Alex 24\n",
      "banyumas\n"
     ]
    }
   ],
   "source": [
    "print(data['nama'])\n",
    "print(data['usia'])\n",
    "print(data['pendidikan'])\n",
    "print(data['alamat'])\n",
    "print(data['nama'],data['usia'])\n",
    "print(data['alamat']['kabupaten'])"
   ]
  },
  {
   "cell_type": "code",
   "execution_count": 67,
   "id": "27c6f0d9",
   "metadata": {},
   "outputs": [
    {
     "name": "stdout",
     "output_type": "stream",
     "text": [
      "dict_items([('nama', 'Alex'), ('usia', 24), ('pendidikan', ['sd', 'smp', 'sma']), ('alamat', {'provinsi': 'jateng', 'kabupaten': 'banyumas'})])\n",
      "===\n",
      "dict_keys(['nama', 'usia', 'pendidikan', 'alamat'])\n",
      "===\n",
      "dict_values(['Alex', 24, ['sd', 'smp', 'sma'], {'provinsi': 'jateng', 'kabupaten': 'banyumas'}])\n"
     ]
    }
   ],
   "source": [
    "#built-in methods\n",
    "#items\n",
    "print(data.items())\n",
    "print('===')\n",
    "#keys\n",
    "print(data.keys())\n",
    "print('===')\n",
    "#values\n",
    "print(data.values())"
   ]
  },
  {
   "cell_type": "code",
   "execution_count": null,
   "id": "91201618",
   "metadata": {},
   "outputs": [],
   "source": []
  }
 ],
 "metadata": {
  "kernelspec": {
   "display_name": "Python 3 (ipykernel)",
   "language": "python",
   "name": "python3"
  },
  "language_info": {
   "codemirror_mode": {
    "name": "ipython",
    "version": 3
   },
   "file_extension": ".py",
   "mimetype": "text/x-python",
   "name": "python",
   "nbconvert_exporter": "python",
   "pygments_lexer": "ipython3",
   "version": "3.10.0"
  }
 },
 "nbformat": 4,
 "nbformat_minor": 5
}
